{
 "cells": [
  {
   "cell_type": "markdown",
   "id": "dfceb149-9e3b-454f-b6bd-f1e23d25671a",
   "metadata": {},
   "source": [
    "# Data Science Tools and Ecosystem"
   ]
  },
  {
   "cell_type": "markdown",
   "id": "4c9a75dc-6240-4bff-aaae-a5723fc00461",
   "metadata": {},
   "source": [
    "In this notebook, Data Science Tools and Ecosystem are summarized."
   ]
  },
  {
   "cell_type": "markdown",
   "id": "100479a2-bded-4dc3-9b30-fc72eb8a1fba",
   "metadata": {},
   "source": [
    "__Objectives:__\n",
    "\n"
   ]
  },
  {
   "cell_type": "markdown",
   "id": "6c1798d4-c9d7-4a31-9dd8-78620252eb21",
   "metadata": {},
   "source": [
    "- List popular languages for Data Science\n",
    "- List commonly used libraries used by Data Scientists\n",
    "- List three data science tools\n",
    "- Give examples of evaluating arithmetic expressions in Python\n"
   ]
  },
  {
   "cell_type": "markdown",
   "id": "ca4d3423-a9fb-4d6c-b41f-f66e6afe5f67",
   "metadata": {},
   "source": [
    "Some of the popular languages that Data Scientists use are:\n",
    "1. Phython\n",
    "2. R\n",
    "3. SQL\n",
    "    "
   ]
  },
  {
   "cell_type": "markdown",
   "id": "94da399b-b957-49e6-9fa4-f0e0fdcc7e4b",
   "metadata": {},
   "source": [
    "Some of the commonly used libraries used by Data Scientists include:\n",
    "1. NumPy\n",
    "2. SciPy\n",
    "3. Matplotlib\n",
    "4. Pandas\n",
    "5. Seaborn"
   ]
  },
  {
   "cell_type": "markdown",
   "id": "05ee7861-c9a1-4842-8fa4-513b30a908d2",
   "metadata": {},
   "source": [
    "\n",
    "|Data Science Tools|\n",
    "|-------------------|\n",
    "|Jupyter|\n",
    "|RStudio|\n",
    "|Spyder|\n"
   ]
  },
  {
   "cell_type": "markdown",
   "id": "2671bec3-e69e-4147-9558-6452de7a37c7",
   "metadata": {},
   "source": [
    "### Below are a few examples of evaluating arithmetic expressions in Python"
   ]
  },
  {
   "cell_type": "markdown",
   "id": "2303b7f9-f86b-4a48-a482-050b6ab0cc42",
   "metadata": {},
   "source": [
    "This a simple arithmetic expression to mutiply then add integers"
   ]
  },
  {
   "cell_type": "code",
   "execution_count": 23,
   "id": "c7e4719e-f7a4-49e7-8b6a-207f862a4005",
   "metadata": {},
   "outputs": [
    {
     "data": {
      "text/plain": [
       "17"
      ]
     },
     "execution_count": 23,
     "metadata": {},
     "output_type": "execute_result"
    }
   ],
   "source": [
    "(3*4)+5"
   ]
  },
  {
   "cell_type": "markdown",
   "id": "7d348cff-e860-47be-beb6-20360b61af93",
   "metadata": {},
   "source": [
    "This will convert 200 minutes to hours by diving by 60"
   ]
  },
  {
   "cell_type": "code",
   "execution_count": 24,
   "id": "6f8d9932-52f6-40f6-8e01-2d5c7a0aad33",
   "metadata": {},
   "outputs": [
    {
     "data": {
      "text/plain": [
       "3.3333333333333335"
      ]
     },
     "execution_count": 24,
     "metadata": {},
     "output_type": "execute_result"
    }
   ],
   "source": [
    "200/60"
   ]
  },
  {
   "cell_type": "markdown",
   "id": "221e3ab1-1a5c-4020-9e5e-efe038382db9",
   "metadata": {},
   "source": [
    "## Author"
   ]
  },
  {
   "cell_type": "markdown",
   "id": "5582ba4d-3829-4bcb-96e0-8c093930594f",
   "metadata": {},
   "source": [
    "Tanesha Leslie"
   ]
  }
 ],
 "metadata": {
  "kernelspec": {
   "display_name": "Python 3 (ipykernel)",
   "language": "python",
   "name": "python3"
  },
  "language_info": {
   "codemirror_mode": {
    "name": "ipython",
    "version": 3
   },
   "file_extension": ".py",
   "mimetype": "text/x-python",
   "name": "python",
   "nbconvert_exporter": "python",
   "pygments_lexer": "ipython3",
   "version": "3.9.12"
  }
 },
 "nbformat": 4,
 "nbformat_minor": 5
}
